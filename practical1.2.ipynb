{
 "cells": [
  {
   "cell_type": "code",
   "execution_count": 2,
   "id": "738d08fa",
   "metadata": {},
   "outputs": [],
   "source": [
    "import pandas as pd\n",
    "# Inventory DataFrame\n",
    "data = {\n",
    "    \"Location1\": [100, 50, 300, 200, 80],\n",
    "    \"Location2\": [200, 60, 400, 250, 90],\n",
    "    \"Location3\": [150, 40, 350, 220, 70],\n",
    "    \"Location4\": [300, 80, 500, 270, 100]\n",
    "}\n",
    "i = pd.DataFrame(data, index=[\"Product1\", \"Product2\", \"Product3\", \"Product4\", \"Product5\"])"
   ]
  },
  {
   "cell_type": "code",
   "execution_count": 3,
   "id": "0725cfb3",
   "metadata": {},
   "outputs": [
    {
     "data": {
      "text/html": [
       "<div>\n",
       "<style scoped>\n",
       "    .dataframe tbody tr th:only-of-type {\n",
       "        vertical-align: middle;\n",
       "    }\n",
       "\n",
       "    .dataframe tbody tr th {\n",
       "        vertical-align: top;\n",
       "    }\n",
       "\n",
       "    .dataframe thead th {\n",
       "        text-align: right;\n",
       "    }\n",
       "</style>\n",
       "<table border=\"1\" class=\"dataframe\">\n",
       "  <thead>\n",
       "    <tr style=\"text-align: right;\">\n",
       "      <th></th>\n",
       "      <th>Location1</th>\n",
       "      <th>Location2</th>\n",
       "      <th>Location3</th>\n",
       "      <th>Location4</th>\n",
       "    </tr>\n",
       "  </thead>\n",
       "  <tbody>\n",
       "    <tr>\n",
       "      <th>Product1</th>\n",
       "      <td>100</td>\n",
       "      <td>200</td>\n",
       "      <td>150</td>\n",
       "      <td>300</td>\n",
       "    </tr>\n",
       "    <tr>\n",
       "      <th>Product2</th>\n",
       "      <td>50</td>\n",
       "      <td>60</td>\n",
       "      <td>40</td>\n",
       "      <td>80</td>\n",
       "    </tr>\n",
       "  </tbody>\n",
       "</table>\n",
       "</div>"
      ],
      "text/plain": [
       "          Location1  Location2  Location3  Location4\n",
       "Product1        100        200        150        300\n",
       "Product2         50         60         40         80"
      ]
     },
     "execution_count": 3,
     "metadata": {},
     "output_type": "execute_result"
    }
   ],
   "source": [
    "# 1.  Display the first two rows of the inventory DataFrame.\n",
    "i.head(2)"
   ]
  },
  {
   "cell_type": "code",
   "execution_count": 4,
   "id": "f6bbd77d",
   "metadata": {},
   "outputs": [
    {
     "data": {
      "text/plain": [
       "(5, 4)"
      ]
     },
     "execution_count": 4,
     "metadata": {},
     "output_type": "execute_result"
    }
   ],
   "source": [
    "# 2.Get the total number of rows and columns in the DataFrame.\n",
    "i.shape"
   ]
  },
  {
   "cell_type": "code",
   "execution_count": 5,
   "id": "3d4d1b4e",
   "metadata": {},
   "outputs": [
    {
     "data": {
      "text/plain": [
       "['Location1', 'Location2', 'Location3', 'Location4']"
      ]
     },
     "execution_count": 5,
     "metadata": {},
     "output_type": "execute_result"
    }
   ],
   "source": [
    "# 3. List the column names and row indices.\n",
    "i.columns.tolist()"
   ]
  },
  {
   "cell_type": "code",
   "execution_count": 6,
   "id": "3dbbabd2",
   "metadata": {},
   "outputs": [
    {
     "data": {
      "text/plain": [
       "['Product1', 'Product2', 'Product3', 'Product4', 'Product5']"
      ]
     },
     "execution_count": 6,
     "metadata": {},
     "output_type": "execute_result"
    }
   ],
   "source": [
    "i.index.tolist()"
   ]
  },
  {
   "cell_type": "code",
   "execution_count": 7,
   "id": "b00c4c8f",
   "metadata": {},
   "outputs": [
    {
     "data": {
      "text/plain": [
       "Location1    int64\n",
       "Location2    int64\n",
       "Location3    int64\n",
       "Location4    int64\n",
       "dtype: object"
      ]
     },
     "execution_count": 7,
     "metadata": {},
     "output_type": "execute_result"
    }
   ],
   "source": [
    "# 4. Display the data type of each column in the DataFrame\n",
    "i.dtypes"
   ]
  },
  {
   "cell_type": "code",
   "execution_count": 8,
   "id": "732939ee",
   "metadata": {},
   "outputs": [
    {
     "data": {
      "text/plain": [
       "Location1    0\n",
       "Location2    0\n",
       "Location3    0\n",
       "Location4    0\n",
       "dtype: int64"
      ]
     },
     "execution_count": 8,
     "metadata": {},
     "output_type": "execute_result"
    }
   ],
   "source": [
    "# 5.Check if there are any missing values in the DataFrame.\n",
    "i.isnull().sum()"
   ]
  },
  {
   "cell_type": "code",
   "execution_count": 11,
   "id": "b61c586a",
   "metadata": {},
   "outputs": [
    {
     "name": "stdout",
     "output_type": "stream",
     "text": [
      "Location1    300\n",
      "Location2    400\n",
      "Location3    350\n",
      "Location4    500\n",
      "Name: Product3, dtype: int64\n"
     ]
    }
   ],
   "source": [
    "# 6.Retrieve the stock levels for \"Product3\" across all locations. \n",
    "b = i.loc[\"Product3\"]\n",
    "print(b)"
   ]
  },
  {
   "cell_type": "code",
   "execution_count": 12,
   "id": "7e8cbbea",
   "metadata": {},
   "outputs": [
    {
     "name": "stdout",
     "output_type": "stream",
     "text": [
      "Product1    200\n",
      "Product2     60\n",
      "Product3    400\n",
      "Product4    250\n",
      "Product5     90\n",
      "Name: Location2, dtype: int64\n"
     ]
    }
   ],
   "source": [
    "# 7.Extract the stock levels for \"Location2\" across all products.\n",
    "a = i.iloc[:, 1]\n",
    "print(a)"
   ]
  },
  {
   "cell_type": "code",
   "execution_count": 13,
   "id": "272f3784",
   "metadata": {},
   "outputs": [
    {
     "name": "stdout",
     "output_type": "stream",
     "text": [
      "          Location1  Location3\n",
      "Product1        100        150\n",
      "Product4        200        220\n"
     ]
    }
   ],
   "source": [
    "# 8.Retrieve the stock levels of \"Product 1\" and \"Product4\" for \"Location1\" and \"Location3\".\n",
    "a = i.iloc[[0,3],[0,2]]\n",
    "print(a)"
   ]
  },
  {
   "cell_type": "code",
   "execution_count": 15,
   "id": "7fea6cde",
   "metadata": {},
   "outputs": [
    {
     "name": "stdout",
     "output_type": "stream",
     "text": [
      "          Location1  Location2  Location3  Location4\n",
      "Product1        100        200        150        300\n",
      "Product2         50         60         40         80\n",
      "Product3        300        400        350        500\n"
     ]
    }
   ],
   "source": [
    "# 9.Slice the DataFrame to get the first 3 products and the first 2 locations.\n",
    "b = i.iloc[0:3,0:4]\n",
    "print(b)"
   ]
  },
  {
   "cell_type": "code",
   "execution_count": 16,
   "id": "f03dc7aa",
   "metadata": {},
   "outputs": [
    {
     "name": "stdout",
     "output_type": "stream",
     "text": [
      "70\n"
     ]
    }
   ],
   "source": [
    "# 10.Retrieve the stock level of \"Product 5\" at \"Location 3\" \n",
    "a = i.loc[\"Product5\", \"Location3\"]\n",
    "print(a)"
   ]
  },
  {
   "cell_type": "code",
   "execution_count": 27,
   "id": "255e6c6d",
   "metadata": {},
   "outputs": [
    {
     "name": "stdout",
     "output_type": "stream",
     "text": [
      "          Location1  Location2  Location3  Location4  (Product2, Location4)\n",
      "Product1        100        200        150        300                    120\n",
      "Product2         50         60         40        120                    120\n",
      "Product3        300        400        350        500                    120\n",
      "Product4        200        250        220        270                    120\n",
      "Product5         80         90         70        100                    120\n"
     ]
    }
   ],
   "source": [
    "# 11.Update the stock level of \"Product 2\" at \"Location 4\" to 120 units.\n",
    "i.at[\"Product2\", \"Location4\"] = 120\n",
    "print(i)"
   ]
  },
  {
   "cell_type": "code",
   "execution_count": 41,
   "id": "c02cb5d7",
   "metadata": {
    "scrolled": true
   },
   "outputs": [
    {
     "name": "stdout",
     "output_type": "stream",
     "text": [
      "Location1                230\n",
      "Location2                280\n",
      "Location3                250\n",
      "Location4                300\n",
      "(Product2, Location4)    150\n",
      "Name: Product4, dtype: int64\n"
     ]
    }
   ],
   "source": [
    "# 14\n",
    "i= i.loc[\"Product4\"] - 5\n",
    "print(i)"
   ]
  },
  {
   "cell_type": "code",
   "execution_count": null,
   "id": "debce218",
   "metadata": {},
   "outputs": [],
   "source": []
  }
 ],
 "metadata": {
  "kernelspec": {
   "display_name": "Python 3 (ipykernel)",
   "language": "python",
   "name": "python3"
  },
  "language_info": {
   "codemirror_mode": {
    "name": "ipython",
    "version": 3
   },
   "file_extension": ".py",
   "mimetype": "text/x-python",
   "name": "python",
   "nbconvert_exporter": "python",
   "pygments_lexer": "ipython3",
   "version": "3.11.5"
  }
 },
 "nbformat": 4,
 "nbformat_minor": 5
}
