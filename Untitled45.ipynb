{
 "cells": [
  {
   "cell_type": "code",
   "execution_count": 1,
   "id": "308d2c91",
   "metadata": {},
   "outputs": [],
   "source": [
    "import numpy as np\n",
    "i = np.array([\n",
    "    [100, 200, 150, 300],  # Product 1\n",
    "    [50, 60, 40, 80],      # Product 2\n",
    "    [300, 400, 350, 500],  # Product 3\n",
    "    [200, 250, 220, 270],  # Product 4\n",
    "    [80, 90, 70, 100]      # Product 5\n",
    "])"
   ]
  },
  {
   "cell_type": "code",
   "execution_count": 2,
   "id": "05325728",
   "metadata": {},
   "outputs": [
    {
     "data": {
      "text/plain": [
       "2"
      ]
     },
     "execution_count": 2,
     "metadata": {},
     "output_type": "execute_result"
    }
   ],
   "source": [
    "# 1.Determine the number of dimensions of the array.\n",
    "i.ndim"
   ]
  },
  {
   "cell_type": "code",
   "execution_count": 3,
   "id": "0c1792e1",
   "metadata": {},
   "outputs": [
    {
     "data": {
      "text/plain": [
       "dtype('int32')"
      ]
     },
     "execution_count": 3,
     "metadata": {},
     "output_type": "execute_result"
    }
   ],
   "source": [
    "# 2.Identify the data type of elements in the array.\n",
    "i.dtype"
   ]
  },
  {
   "cell_type": "code",
   "execution_count": 4,
   "id": "a0ad20bf",
   "metadata": {},
   "outputs": [
    {
     "data": {
      "text/plain": [
       "20"
      ]
     },
     "execution_count": 4,
     "metadata": {},
     "output_type": "execute_result"
    }
   ],
   "source": [
    "# 3.Calculate the total number of elements in the array.\n",
    "i.size"
   ]
  },
  {
   "cell_type": "code",
   "execution_count": 5,
   "id": "19c1ee18",
   "metadata": {},
   "outputs": [
    {
     "data": {
      "text/plain": [
       "80"
      ]
     },
     "execution_count": 5,
     "metadata": {},
     "output_type": "execute_result"
    }
   ],
   "source": [
    "# 4.Find the total memory (in bytes) used by the array.2. Arithmetic Operations\n",
    "i.nbytes"
   ]
  },
  {
   "cell_type": "code",
   "execution_count": 6,
   "id": "cfda35ac",
   "metadata": {},
   "outputs": [
    {
     "data": {
      "text/plain": [
       "array([[120, 220, 170, 320],\n",
       "       [ 70,  80,  60, 100],\n",
       "       [320, 420, 370, 520],\n",
       "       [220, 270, 240, 290],\n",
       "       [100, 110,  90, 120]])"
      ]
     },
     "execution_count": 6,
     "metadata": {},
     "output_type": "execute_result"
    }
   ],
   "source": [
    "# 5.Add 20 units of stock to all products across all locations.\n",
    "i + 20"
   ]
  },
  {
   "cell_type": "code",
   "execution_count": 7,
   "id": "1fced5ab",
   "metadata": {},
   "outputs": [
    {
     "data": {
      "text/plain": [
       "array([290, 390, 340, 490])"
      ]
     },
     "execution_count": 7,
     "metadata": {},
     "output_type": "execute_result"
    }
   ],
   "source": [
    "# 6.Deduct 10 units of stock from Product 3 across all locations.\n",
    "i[2]-10"
   ]
  },
  {
   "cell_type": "code",
   "execution_count": 8,
   "id": "6f6a36e6",
   "metadata": {},
   "outputs": [
    {
     "data": {
      "text/plain": [
       "array([400, 120, 800, 500, 180])"
      ]
     },
     "execution_count": 8,
     "metadata": {},
     "output_type": "execute_result"
    }
   ],
   "source": [
    "# 7.Double the stock of all products at Location 2 (column 2).\n",
    "i[:, 1] *2"
   ]
  },
  {
   "cell_type": "code",
   "execution_count": 9,
   "id": "5d7604f5",
   "metadata": {},
   "outputs": [
    {
     "name": "stdout",
     "output_type": "stream",
     "text": [
      "[[10. 20. 15. 30.]\n",
      " [ 5.  6.  4.  8.]\n",
      " [30. 40. 35. 50.]\n",
      " [20. 25. 22. 27.]\n",
      " [ 8.  9.  7. 10.]]\n"
     ]
    }
   ],
   "source": [
    "# 8.Calculate the percentage of stock available for each product at all locations, assuming the maximum capacity of each location is 1000 units.3. Aggregate Functions\n",
    "max_capacity = 1000\n",
    "per_stock = (i/1000)*100\n",
    "print(per_stock)"
   ]
  },
  {
   "cell_type": "code",
   "execution_count": 10,
   "id": "5d2aeeb9",
   "metadata": {},
   "outputs": [
    {
     "data": {
      "text/plain": [
       "array([ 750,  230, 1550,  940,  340])"
      ]
     },
     "execution_count": 10,
     "metadata": {},
     "output_type": "execute_result"
    }
   ],
   "source": [
    "# 9.Calculate the total stock of each product across all locations.\n",
    "np.sum(i, axis=1)"
   ]
  },
  {
   "cell_type": "code",
   "execution_count": 11,
   "id": "f9f3e099",
   "metadata": {},
   "outputs": [
    {
     "data": {
      "text/plain": [
       "array([ 730, 1000,  830, 1250])"
      ]
     },
     "execution_count": 11,
     "metadata": {},
     "output_type": "execute_result"
    }
   ],
   "source": [
    "# 10.Determine the total stock available in each location.\n",
    "np.sum(i, axis=0)"
   ]
  },
  {
   "cell_type": "code",
   "execution_count": 12,
   "id": "9f4773eb",
   "metadata": {},
   "outputs": [
    {
     "data": {
      "text/plain": [
       "array([300, 400, 350, 500])"
      ]
     },
     "execution_count": 12,
     "metadata": {},
     "output_type": "execute_result"
    }
   ],
   "source": [
    "# 11.Find the product with the maximum total stock across all locations.\n",
    "np.max(i, axis=0)"
   ]
  },
  {
   "cell_type": "code",
   "execution_count": 13,
   "id": "907dc311",
   "metadata": {},
   "outputs": [
    {
     "data": {
      "text/plain": [
       "array([100,  40, 300, 200,  70])"
      ]
     },
     "execution_count": 13,
     "metadata": {},
     "output_type": "execute_result"
    }
   ],
   "source": [
    "# 12.Identify the location with the minimum total stock across all products.\n",
    "np.min(i, axis=1)"
   ]
  },
  {
   "cell_type": "code",
   "execution_count": 14,
   "id": "12449816",
   "metadata": {},
   "outputs": [
    {
     "data": {
      "text/plain": [
       "array([187.5,  57.5, 387.5, 235. ,  85. ])"
      ]
     },
     "execution_count": 14,
     "metadata": {},
     "output_type": "execute_result"
    }
   ],
   "source": [
    "# 13.Compute the average stock per product across all locations.4. Subsetting\n",
    "np.mean(i,axis=1)"
   ]
  },
  {
   "cell_type": "code",
   "execution_count": 15,
   "id": "a9cec904",
   "metadata": {},
   "outputs": [
    {
     "data": {
      "text/plain": [
       "array([50, 60, 40, 80])"
      ]
     },
     "execution_count": 15,
     "metadata": {},
     "output_type": "execute_result"
    }
   ],
   "source": [
    "# 14.Retrieve the stock levels of Product 2 across all locations.\n",
    "i[1]"
   ]
  },
  {
   "cell_type": "code",
   "execution_count": 16,
   "id": "53146ceb",
   "metadata": {},
   "outputs": [
    {
     "data": {
      "text/plain": [
       "array([150,  40, 350, 220,  70])"
      ]
     },
     "execution_count": 16,
     "metadata": {},
     "output_type": "execute_result"
    }
   ],
   "source": [
    "# 15.Extract the stock levels for all products in Location 3.\n",
    "i[:,2]"
   ]
  },
  {
   "cell_type": "code",
   "execution_count": 20,
   "id": "8334fa1e",
   "metadata": {},
   "outputs": [
    {
     "name": "stdout",
     "output_type": "stream",
     "text": [
      "[400 270]\n"
     ]
    }
   ],
   "source": [
    "# 16.Find the stock levels of Products 3 and 4 for Locations 2 and 4.5. Slicing\n",
    "stock_levels = i[[2, 3], [1, 3]]\n",
    "print(stock_levels)"
   ]
  },
  {
   "cell_type": "code",
   "execution_count": 21,
   "id": "93cd9f88",
   "metadata": {},
   "outputs": [
    {
     "data": {
      "text/plain": [
       "array([[100, 200],\n",
       "       [ 50,  60],\n",
       "       [300, 400]])"
      ]
     },
     "execution_count": 21,
     "metadata": {},
     "output_type": "execute_result"
    }
   ],
   "source": [
    "# 17.Extract the stock levels of the first 3 products for the first 2 locations.\n",
    "i[0:3,0:2]"
   ]
  },
  {
   "cell_type": "code",
   "execution_count": 22,
   "id": "946a8a23",
   "metadata": {},
   "outputs": [
    {
     "data": {
      "text/plain": [
       "array([[220, 270],\n",
       "       [ 70, 100]])"
      ]
     },
     "execution_count": 22,
     "metadata": {},
     "output_type": "execute_result"
    }
   ],
   "source": [
    "# 18.Slice the stock levels of the last 2 products for the last 2 locations.6. Indexing.\n",
    "i[3:5,2:4]"
   ]
  },
  {
   "cell_type": "code",
   "execution_count": 23,
   "id": "363a9b79",
   "metadata": {},
   "outputs": [
    {
     "name": "stdout",
     "output_type": "stream",
     "text": [
      "70\n"
     ]
    }
   ],
   "source": [
    "# 19.Identify the stock of Product 5 at Location 3.\n",
    "stock = i[4,2]\n",
    "print(stock)"
   ]
  },
  {
   "cell_type": "code",
   "execution_count": 24,
   "id": "7bf2b4d4",
   "metadata": {},
   "outputs": [
    {
     "name": "stdout",
     "output_type": "stream",
     "text": [
      "[100 220]\n"
     ]
    }
   ],
   "source": [
    "# 20.Use advanced indexing to find the stock levels of Product 1 at Location 1 and Product 4 at Location 3.\n",
    "products = [0,3]\n",
    "locations = [0,2]\n",
    "stock_levels = i[products, locations]\n",
    "print(stock_levels)"
   ]
  },
  {
   "cell_type": "code",
   "execution_count": 25,
   "id": "a892a8bd",
   "metadata": {},
   "outputs": [
    {
     "name": "stdout",
     "output_type": "stream",
     "text": [
      "[[100 200 150 300]\n",
      " [ 50  60  40 100]\n",
      " [300 400 350 500]\n",
      " [200 250 220 270]\n",
      " [ 80  90  70 100]]\n"
     ]
    }
   ],
   "source": [
    "# 21.Update the stock of Product 2 at Location 4 to 100 units.\n",
    "i[1,3] = 100\n",
    "print(i)"
   ]
  },
  {
   "cell_type": "code",
   "execution_count": null,
   "id": "d8b8964a",
   "metadata": {},
   "outputs": [],
   "source": []
  }
 ],
 "metadata": {
  "kernelspec": {
   "display_name": "Python 3 (ipykernel)",
   "language": "python",
   "name": "python3"
  },
  "language_info": {
   "codemirror_mode": {
    "name": "ipython",
    "version": 3
   },
   "file_extension": ".py",
   "mimetype": "text/x-python",
   "name": "python",
   "nbconvert_exporter": "python",
   "pygments_lexer": "ipython3",
   "version": "3.11.5"
  }
 },
 "nbformat": 4,
 "nbformat_minor": 5
}
